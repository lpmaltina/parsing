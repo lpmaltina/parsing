{
 "cells": [
  {
   "cell_type": "markdown",
   "metadata": {},
   "source": [
    "# View Data"
   ]
  },
  {
   "cell_type": "code",
   "execution_count": 1,
   "metadata": {},
   "outputs": [],
   "source": [
    "from parse_data import TextsinlevelsDB"
   ]
  },
  {
   "cell_type": "code",
   "execution_count": 2,
   "metadata": {},
   "outputs": [],
   "source": [
    "textsinlevels = TextsinlevelsDB(db_name=\"textsinlevels\")\n",
    "df_news = textsinlevels.write_from_table_to_df(\"newsinlevels\")\n",
    "df_days = textsinlevels.write_from_table_to_df(\"daysinlevels\")\n",
    "del textsinlevels"
   ]
  },
  {
   "cell_type": "code",
   "execution_count": 3,
   "metadata": {},
   "outputs": [],
   "source": [
    "def print_general_info(df):\n",
    "    print(\"The number of texts:\", df.shape[0])\n",
    "    print(\n",
    "        f\"The number of texts for each level:\\n{df['level'].value_counts().sort_index()}\"\n",
    "    )"
   ]
  },
  {
   "cell_type": "markdown",
   "metadata": {},
   "source": [
    "### View Data from the Dataset with News (https://www.newsinlevels.com)"
   ]
  },
  {
   "cell_type": "code",
   "execution_count": 4,
   "metadata": {},
   "outputs": [
    {
     "name": "stdout",
     "output_type": "stream",
     "text": [
      "The number of texts: 9817\n",
      "The number of texts for each level:\n",
      "1    3273\n",
      "2    3272\n",
      "3    3272\n",
      "Name: level, dtype: int64\n"
     ]
    }
   ],
   "source": [
    "print_general_info(df_news)"
   ]
  },
  {
   "cell_type": "code",
   "execution_count": 5,
   "metadata": {},
   "outputs": [
    {
     "data": {
      "text/html": [
       "<div>\n",
       "<style scoped>\n",
       "    .dataframe tbody tr th:only-of-type {\n",
       "        vertical-align: middle;\n",
       "    }\n",
       "\n",
       "    .dataframe tbody tr th {\n",
       "        vertical-align: top;\n",
       "    }\n",
       "\n",
       "    .dataframe thead th {\n",
       "        text-align: right;\n",
       "    }\n",
       "</style>\n",
       "<table border=\"1\" class=\"dataframe\">\n",
       "  <thead>\n",
       "    <tr style=\"text-align: right;\">\n",
       "      <th></th>\n",
       "      <th>date</th>\n",
       "      <th>heading</th>\n",
       "      <th>article_text</th>\n",
       "      <th>level</th>\n",
       "    </tr>\n",
       "  </thead>\n",
       "  <tbody>\n",
       "    <tr>\n",
       "      <th>0</th>\n",
       "      <td>15-01-2022 12:00</td>\n",
       "      <td>Test your English</td>\n",
       "      <td>We have a test for students of English. You ca...</td>\n",
       "      <td>1</td>\n",
       "    </tr>\n",
       "    <tr>\n",
       "      <th>1</th>\n",
       "      <td>14-01-2022 15:00</td>\n",
       "      <td>World’s best skater can go to the Olympics</td>\n",
       "      <td>Erin Jackson is an American athlete. She is th...</td>\n",
       "      <td>1</td>\n",
       "    </tr>\n",
       "    <tr>\n",
       "      <th>2</th>\n",
       "      <td>14-01-2022 07:00</td>\n",
       "      <td>Man with a pig heart</td>\n",
       "      <td>David Bennet comes from Maryland, US. He is 57...</td>\n",
       "      <td>1</td>\n",
       "    </tr>\n",
       "    <tr>\n",
       "      <th>3</th>\n",
       "      <td>13-01-2022 15:00</td>\n",
       "      <td>New mirror in space</td>\n",
       "      <td>A rocket goes in space two weeks ago. It carri...</td>\n",
       "      <td>1</td>\n",
       "    </tr>\n",
       "    <tr>\n",
       "      <th>4</th>\n",
       "      <td>13-01-2022 07:00</td>\n",
       "      <td>Hainan towers</td>\n",
       "      <td>The Evergrande Group is a Chinese company. It ...</td>\n",
       "      <td>1</td>\n",
       "    </tr>\n",
       "  </tbody>\n",
       "</table>\n",
       "</div>"
      ],
      "text/plain": [
       "               date                                     heading  \\\n",
       "0  15-01-2022 12:00                           Test your English   \n",
       "1  14-01-2022 15:00  World’s best skater can go to the Olympics   \n",
       "2  14-01-2022 07:00                        Man with a pig heart   \n",
       "3  13-01-2022 15:00                         New mirror in space   \n",
       "4  13-01-2022 07:00                               Hainan towers   \n",
       "\n",
       "                                        article_text  level  \n",
       "0  We have a test for students of English. You ca...      1  \n",
       "1  Erin Jackson is an American athlete. She is th...      1  \n",
       "2  David Bennet comes from Maryland, US. He is 57...      1  \n",
       "3  A rocket goes in space two weeks ago. It carri...      1  \n",
       "4  The Evergrande Group is a Chinese company. It ...      1  "
      ]
     },
     "execution_count": 5,
     "metadata": {},
     "output_type": "execute_result"
    }
   ],
   "source": [
    "df_news.head()"
   ]
  },
  {
   "cell_type": "markdown",
   "metadata": {},
   "source": [
    "### View Data from the Dataset with Texts about Famous Days (https://www.daysinlevels.com)"
   ]
  },
  {
   "cell_type": "code",
   "execution_count": 6,
   "metadata": {},
   "outputs": [
    {
     "name": "stdout",
     "output_type": "stream",
     "text": [
      "The number of texts: 477\n",
      "The number of texts for each level:\n",
      "1    159\n",
      "2    159\n",
      "3    159\n",
      "Name: level, dtype: int64\n"
     ]
    }
   ],
   "source": [
    "print_general_info(df_days)"
   ]
  },
  {
   "cell_type": "code",
   "execution_count": 7,
   "metadata": {},
   "outputs": [
    {
     "data": {
      "text/html": [
       "<div>\n",
       "<style scoped>\n",
       "    .dataframe tbody tr th:only-of-type {\n",
       "        vertical-align: middle;\n",
       "    }\n",
       "\n",
       "    .dataframe tbody tr th {\n",
       "        vertical-align: top;\n",
       "    }\n",
       "\n",
       "    .dataframe thead th {\n",
       "        text-align: right;\n",
       "    }\n",
       "</style>\n",
       "<table border=\"1\" class=\"dataframe\">\n",
       "  <thead>\n",
       "    <tr style=\"text-align: right;\">\n",
       "      <th></th>\n",
       "      <th>date</th>\n",
       "      <th>heading</th>\n",
       "      <th>article_text</th>\n",
       "      <th>level</th>\n",
       "    </tr>\n",
       "  </thead>\n",
       "  <tbody>\n",
       "    <tr>\n",
       "      <th>0</th>\n",
       "      <td>12-01-2010</td>\n",
       "      <td>The day the earthquake hit Haiti</td>\n",
       "      <td>Millions of people live in Haiti. Haiti is a p...</td>\n",
       "      <td>1</td>\n",
       "    </tr>\n",
       "    <tr>\n",
       "      <th>1</th>\n",
       "      <td>10-01-1789</td>\n",
       "      <td>The day of the first US presidential election</td>\n",
       "      <td>It is December 15, 1788. It is time when the e...</td>\n",
       "      <td>1</td>\n",
       "    </tr>\n",
       "    <tr>\n",
       "      <th>2</th>\n",
       "      <td>10-01-49 BC</td>\n",
       "      <td>The day Caesar crossed the Rubicon</td>\n",
       "      <td>Two thousand years ago, Rome is a republic. Ro...</td>\n",
       "      <td>1</td>\n",
       "    </tr>\n",
       "    <tr>\n",
       "      <th>3</th>\n",
       "      <td>09-01-1959</td>\n",
       "      <td>The day Fidel Castro took control over Cuba</td>\n",
       "      <td>It is 1956. Fidel Castro wants a revolution in...</td>\n",
       "      <td>1</td>\n",
       "    </tr>\n",
       "    <tr>\n",
       "      <th>4</th>\n",
       "      <td>05-01-1933</td>\n",
       "      <td>The day the Golden Gate Bridge construction st...</td>\n",
       "      <td>The Golden Gate Bridge is a symbol of San Fran...</td>\n",
       "      <td>1</td>\n",
       "    </tr>\n",
       "  </tbody>\n",
       "</table>\n",
       "</div>"
      ],
      "text/plain": [
       "          date                                            heading  \\\n",
       "0   12-01-2010                   The day the earthquake hit Haiti   \n",
       "1   10-01-1789      The day of the first US presidential election   \n",
       "2  10-01-49 BC                 The day Caesar crossed the Rubicon   \n",
       "3   09-01-1959        The day Fidel Castro took control over Cuba   \n",
       "4   05-01-1933  The day the Golden Gate Bridge construction st...   \n",
       "\n",
       "                                        article_text  level  \n",
       "0  Millions of people live in Haiti. Haiti is a p...      1  \n",
       "1  It is December 15, 1788. It is time when the e...      1  \n",
       "2  Two thousand years ago, Rome is a republic. Ro...      1  \n",
       "3  It is 1956. Fidel Castro wants a revolution in...      1  \n",
       "4  The Golden Gate Bridge is a symbol of San Fran...      1  "
      ]
     },
     "execution_count": 7,
     "metadata": {},
     "output_type": "execute_result"
    }
   ],
   "source": [
    "df_days.head()"
   ]
  }
 ],
 "metadata": {
  "kernelspec": {
   "display_name": "Python 3",
   "language": "python",
   "name": "python3"
  },
  "language_info": {
   "codemirror_mode": {
    "name": "ipython",
    "version": 3
   },
   "file_extension": ".py",
   "mimetype": "text/x-python",
   "name": "python",
   "nbconvert_exporter": "python",
   "pygments_lexer": "ipython3",
   "version": "3.7.4"
  }
 },
 "nbformat": 4,
 "nbformat_minor": 2
}
